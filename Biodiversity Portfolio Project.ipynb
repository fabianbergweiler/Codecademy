{
 "cells": [
  {
   "cell_type": "markdown",
   "id": "084d277f",
   "metadata": {},
   "source": [
    "__Import main libraries__"
   ]
  },
  {
   "cell_type": "code",
   "execution_count": 2,
   "id": "2be69ef7",
   "metadata": {},
   "outputs": [],
   "source": [
    "import pandas as pd\n",
    "import numpy as np\n",
    "import matplotlib.pyplot as plt\n",
    "import glob\n",
    "import seaborn as sns\n",
    "from sklearn.impute import SimpleImputer\n",
    "from sklearn.experimental import enable_iterative_imputer\n",
    "from sklearn.impute import IterativeImputer"
   ]
  },
  {
   "cell_type": "markdown",
   "id": "4545efe4",
   "metadata": {},
   "source": [
    "__Read in csv files__"
   ]
  },
  {
   "cell_type": "code",
   "execution_count": 3,
   "id": "de24865e",
   "metadata": {},
   "outputs": [],
   "source": [
    "species = pd.read_csv(r'C:\\Users\\stebe\\OneDrive\\Fabian Unterlagen\\Codeacademy\\biodiversity_starter\\species_info.csv')\n",
    "observations = pd.read_csv(r'C:\\Users\\stebe\\OneDrive\\Fabian Unterlagen\\Codeacademy\\biodiversity_starter\\observations.csv')"
   ]
  },
  {
   "cell_type": "markdown",
   "id": "512fe7ac",
   "metadata": {},
   "source": [
    "__Look at properties of the data in detail__"
   ]
  },
  {
   "cell_type": "code",
   "execution_count": 4,
   "id": "e577ea1d",
   "metadata": {},
   "outputs": [
    {
     "name": "stdout",
     "output_type": "stream",
     "text": [
      "  category                scientific_name  \\\n",
      "0   Mammal  Clethrionomys gapperi gapperi   \n",
      "1   Mammal                      Bos bison   \n",
      "2   Mammal                     Bos taurus   \n",
      "3   Mammal                     Ovis aries   \n",
      "4   Mammal                 Cervus elaphus   \n",
      "\n",
      "                                        common_names conservation_status  \n",
      "0                           Gapper's Red-Backed Vole                 NaN  \n",
      "1                              American Bison, Bison                 NaN  \n",
      "2  Aurochs, Aurochs, Domestic Cattle (Feral), Dom...                 NaN  \n",
      "3  Domestic Sheep, Mouflon, Red Sheep, Sheep (Feral)                 NaN  \n",
      "4                                      Wapiti Or Elk                 NaN  \n",
      "            scientific_name                            park_name  observations\n",
      "0        Vicia benghalensis  Great Smoky Mountains National Park            68\n",
      "1            Neovison vison  Great Smoky Mountains National Park            77\n",
      "2         Prunus subcordata               Yosemite National Park           138\n",
      "3      Abutilon theophrasti                  Bryce National Park            84\n",
      "4  Githopsis specularioides  Great Smoky Mountains National Park            85\n"
     ]
    }
   ],
   "source": [
    "print(species.head())\n",
    "print(observations.head())"
   ]
  },
  {
   "cell_type": "code",
   "execution_count": 5,
   "id": "263aba3b",
   "metadata": {},
   "outputs": [
    {
     "name": "stdout",
     "output_type": "stream",
     "text": [
      "Index(['category', 'scientific_name', 'common_names', 'conservation_status'], dtype='object')\n",
      "Index(['scientific_name', 'park_name', 'observations'], dtype='object')\n"
     ]
    }
   ],
   "source": [
    "print(species.columns)\n",
    "print(observations.columns)"
   ]
  },
  {
   "cell_type": "code",
   "execution_count": 6,
   "id": "989320b9",
   "metadata": {},
   "outputs": [
    {
     "name": "stdout",
     "output_type": "stream",
     "text": [
      "              category    scientific_name        common_names  \\\n",
      "count             5824               5824                5824   \n",
      "unique               7               5541                5504   \n",
      "top     Vascular Plant  Castor canadensis  Brachythecium Moss   \n",
      "freq              4470                  3                   7   \n",
      "\n",
      "       conservation_status  \n",
      "count                  191  \n",
      "unique                   4  \n",
      "top     Species of Concern  \n",
      "freq                   161  \n",
      "       observations\n",
      "count  23296.000000\n",
      "mean     142.287904\n",
      "std       69.890532\n",
      "min        9.000000\n",
      "25%       86.000000\n",
      "50%      124.000000\n",
      "75%      195.000000\n",
      "max      321.000000\n"
     ]
    }
   ],
   "source": [
    "print(species.describe())\n",
    "print(observations.describe())"
   ]
  },
  {
   "cell_type": "code",
   "execution_count": 7,
   "id": "710b9baf",
   "metadata": {},
   "outputs": [
    {
     "name": "stdout",
     "output_type": "stream",
     "text": [
      "<bound method DataFrame.info of             category                scientific_name  \\\n",
      "0             Mammal  Clethrionomys gapperi gapperi   \n",
      "1             Mammal                      Bos bison   \n",
      "2             Mammal                     Bos taurus   \n",
      "3             Mammal                     Ovis aries   \n",
      "4             Mammal                 Cervus elaphus   \n",
      "...              ...                            ...   \n",
      "5819  Vascular Plant               Solanum parishii   \n",
      "5820  Vascular Plant                  Solanum xanti   \n",
      "5821  Vascular Plant         Parthenocissus vitacea   \n",
      "5822  Vascular Plant              Vitis californica   \n",
      "5823  Vascular Plant            Tribulus terrestris   \n",
      "\n",
      "                                           common_names conservation_status  \n",
      "0                              Gapper's Red-Backed Vole                 NaN  \n",
      "1                                 American Bison, Bison                 NaN  \n",
      "2     Aurochs, Aurochs, Domestic Cattle (Feral), Dom...                 NaN  \n",
      "3     Domestic Sheep, Mouflon, Red Sheep, Sheep (Feral)                 NaN  \n",
      "4                                         Wapiti Or Elk                 NaN  \n",
      "...                                                 ...                 ...  \n",
      "5819                                Parish's Nightshade                 NaN  \n",
      "5820            Chaparral Nightshade, Purple Nightshade                 NaN  \n",
      "5821        Thicket Creeper, Virginia Creeper, Woodbine                 NaN  \n",
      "5822            California Grape, California Wild Grape                 NaN  \n",
      "5823  Bullhead, Caltrop, Goathead, Mexican Sandbur, ...                 NaN  \n",
      "\n",
      "[5824 rows x 4 columns]>\n",
      "<bound method DataFrame.info of                                scientific_name  \\\n",
      "0                           Vicia benghalensis   \n",
      "1                               Neovison vison   \n",
      "2                            Prunus subcordata   \n",
      "3                         Abutilon theophrasti   \n",
      "4                     Githopsis specularioides   \n",
      "...                                        ...   \n",
      "23291                     Croton monanthogynus   \n",
      "23292                 Otospermophilus beecheyi   \n",
      "23293  Heterotheca sessiliflora ssp. echioides   \n",
      "23294                     Dicranella rufescens   \n",
      "23295                           Cucurbita pepo   \n",
      "\n",
      "                                 park_name  observations  \n",
      "0      Great Smoky Mountains National Park            68  \n",
      "1      Great Smoky Mountains National Park            77  \n",
      "2                   Yosemite National Park           138  \n",
      "3                      Bryce National Park            84  \n",
      "4      Great Smoky Mountains National Park            85  \n",
      "...                                    ...           ...  \n",
      "23291               Yosemite National Park           173  \n",
      "23292                  Bryce National Park           130  \n",
      "23293                  Bryce National Park           140  \n",
      "23294               Yosemite National Park           171  \n",
      "23295               Yosemite National Park           164  \n",
      "\n",
      "[23296 rows x 3 columns]>\n"
     ]
    }
   ],
   "source": [
    "print(species.info)\n",
    "print(observations.info)"
   ]
  },
  {
   "cell_type": "markdown",
   "id": "07ebebf5",
   "metadata": {},
   "source": [
    "__Looking at missing values__"
   ]
  },
  {
   "cell_type": "code",
   "execution_count": 11,
   "id": "57635334",
   "metadata": {},
   "outputs": [
    {
     "data": {
      "text/plain": [
       "5633"
      ]
     },
     "execution_count": 11,
     "metadata": {},
     "output_type": "execute_result"
    }
   ],
   "source": [
    "species.isna().sum().sum()"
   ]
  },
  {
   "cell_type": "code",
   "execution_count": 12,
   "id": "8a9fe120",
   "metadata": {},
   "outputs": [
    {
     "data": {
      "text/plain": [
       "category                  0\n",
       "scientific_name           0\n",
       "common_names              0\n",
       "conservation_status    5633\n",
       "dtype: int64"
      ]
     },
     "execution_count": 12,
     "metadata": {},
     "output_type": "execute_result"
    }
   ],
   "source": [
    "species[species.columns].isna().sum()"
   ]
  },
  {
   "cell_type": "code",
   "execution_count": 13,
   "id": "3d21aa30",
   "metadata": {},
   "outputs": [
    {
     "data": {
      "text/plain": [
       "scientific_name    0\n",
       "park_name          0\n",
       "observations       0\n",
       "dtype: int64"
      ]
     },
     "execution_count": 13,
     "metadata": {},
     "output_type": "execute_result"
    }
   ],
   "source": [
    "observations[observations.columns].isna().sum()"
   ]
  },
  {
   "cell_type": "markdown",
   "id": "d85ae405",
   "metadata": {},
   "source": [
    "__Determine how many missing values are in the conservation_status column reative to overall column length__"
   ]
  },
  {
   "cell_type": "code",
   "execution_count": 15,
   "id": "ef80c877",
   "metadata": {},
   "outputs": [
    {
     "name": "stdout",
     "output_type": "stream",
     "text": [
      "96.72046703296702\n"
     ]
    }
   ],
   "source": [
    "print((species['conservation_status'].isna().sum() / len(species)) * 100)"
   ]
  },
  {
   "cell_type": "code",
   "execution_count": 16,
   "id": "d5f48b00",
   "metadata": {},
   "outputs": [],
   "source": [
    "species.drop('conservation_status', axis=1, inplace=True)"
   ]
  },
  {
   "cell_type": "markdown",
   "id": "0e16ce60",
   "metadata": {},
   "source": [
    "The calculation above shows that almost 97% of the column conservation_status of the species data frame contain missing values. It is not possible to work with that column. I cannot aply any corrections here to fill in missing values. I decided to drop the column entirely to avoid bias in my analysis. "
   ]
  },
  {
   "cell_type": "code",
   "execution_count": 17,
   "id": "5a807cb0",
   "metadata": {},
   "outputs": [
    {
     "name": "stdout",
     "output_type": "stream",
     "text": [
      "Index(['category', 'scientific_name', 'common_names'], dtype='object')\n"
     ]
    }
   ],
   "source": [
    "print(species.columns)"
   ]
  },
  {
   "cell_type": "code",
   "execution_count": 18,
   "id": "7861c036",
   "metadata": {},
   "outputs": [
    {
     "name": "stdout",
     "output_type": "stream",
     "text": [
      "category           object\n",
      "scientific_name    object\n",
      "common_names       object\n",
      "dtype: object\n",
      "scientific_name    object\n",
      "park_name          object\n",
      "observations        int64\n",
      "dtype: object\n"
     ]
    }
   ],
   "source": [
    "print(species.dtypes)\n",
    "print(observations.dtypes)"
   ]
  },
  {
   "cell_type": "markdown",
   "id": "d1728b45",
   "metadata": {},
   "source": [
    "__Calculate and visualize the number per species__"
   ]
  },
  {
   "cell_type": "code",
   "execution_count": 28,
   "id": "5d2855e5",
   "metadata": {},
   "outputs": [],
   "source": [
    "category = species.groupby('category').count().reset_index()"
   ]
  },
  {
   "cell_type": "code",
   "execution_count": 31,
   "id": "391f6b55",
   "metadata": {},
   "outputs": [
    {
     "name": "stdout",
     "output_type": "stream",
     "text": [
      "            category  scientific_name  common_names\n",
      "0          Amphibian               80            80\n",
      "1               Bird              521           521\n",
      "2               Fish              127           127\n",
      "3             Mammal              214           214\n",
      "4  Nonvascular Plant              333           333\n",
      "5            Reptile               79            79\n",
      "6     Vascular Plant             4470          4470\n"
     ]
    }
   ],
   "source": [
    "print(category)"
   ]
  },
  {
   "cell_type": "code",
   "execution_count": 37,
   "id": "377e5e0f",
   "metadata": {},
   "outputs": [
    {
     "data": {
      "image/png": "[encoded data removed]",
      "text/plain": [
       "<Figure size 640x480 with 1 Axes>"
      ]
     },
     "metadata": {},
     "output_type": "display_data"
    }
   ],
   "source": [
    "plt.bar(category.category, category.scientific_name, color=['green', 'blue', 'red', 'yellow', 'black', 'orange', 'brown'])\n",
    "plt.title('Number of Species')\n",
    "plt.xlabel('Count')\n",
    "plt.ylabel('Species')\n",
    "plt.xticks(rotation=30)\n",
    "plt.show()"
   ]
  },
  {
   "cell_type": "code",
   "execution_count": 38,
   "id": "359db614",
   "metadata": {},
   "outputs": [],
   "source": [
    "scientific_name = species.groupby('scientific_name').count().reset_index()"
   ]
  },
  {
   "cell_type": "code",
   "execution_count": 39,
   "id": "a8232848",
   "metadata": {},
   "outputs": [
    {
     "name": "stdout",
     "output_type": "stream",
     "text": [
      "                          scientific_name  category  common_names\n",
      "0                           Abies bifolia         1             1\n",
      "1                          Abies concolor         1             1\n",
      "2                           Abies fraseri         1             1\n",
      "3                    Abietinella abietina         1             1\n",
      "4                       Abronia ammophila         1             1\n",
      "...                                   ...       ...           ...\n",
      "5536      Zonotrichia leucophrys gambelii         1             1\n",
      "5537      Zonotrichia leucophrys oriantha         1             1\n",
      "5538                  Zonotrichia querula         1             1\n",
      "5539                 Zygodon viridissimus         1             1\n",
      "5540  Zygodon viridissimus var. rupestris         1             1\n",
      "\n",
      "[5541 rows x 3 columns]\n"
     ]
    }
   ],
   "source": [
    "print(scientific_name)"
   ]
  },
  {
   "cell_type": "code",
   "execution_count": 40,
   "id": "a2a6f1d1",
   "metadata": {},
   "outputs": [
    {
     "name": "stdout",
     "output_type": "stream",
     "text": [
      "5541\n"
     ]
    }
   ],
   "source": [
    "print(scientific_name.scientific_name.nunique())"
   ]
  },
  {
   "cell_type": "markdown",
   "id": "c837bf02",
   "metadata": {},
   "source": [
    "__Calculate the number of observation per park__"
   ]
  },
  {
   "cell_type": "code",
   "execution_count": 41,
   "id": "909cf3f7",
   "metadata": {},
   "outputs": [],
   "source": [
    "park = observations.groupby('park_name').count().reset_index()"
   ]
  },
  {
   "cell_type": "code",
   "execution_count": 42,
   "id": "07fc4ea1",
   "metadata": {},
   "outputs": [
    {
     "name": "stdout",
     "output_type": "stream",
     "text": [
      "                             park_name  scientific_name  observations\n",
      "0                  Bryce National Park             5824          5824\n",
      "1  Great Smoky Mountains National Park             5824          5824\n",
      "2            Yellowstone National Park             5824          5824\n",
      "3               Yosemite National Park             5824          5824\n"
     ]
    }
   ],
   "source": [
    "print(park)"
   ]
  },
  {
   "cell_type": "markdown",
   "id": "a63dd412",
   "metadata": {},
   "source": [
    "This shows no ressult as the numer of observations is equal for each park."
   ]
  },
  {
   "cell_type": "code",
   "execution_count": 44,
   "id": "04d1d3f9",
   "metadata": {},
   "outputs": [],
   "source": [
    "merged = species.merge(observations, on='scientific_name')"
   ]
  },
  {
   "cell_type": "code",
   "execution_count": 45,
   "id": "90963f05",
   "metadata": {},
   "outputs": [
    {
     "name": "stdout",
     "output_type": "stream",
     "text": [
      "  category                scientific_name              common_names  \\\n",
      "0   Mammal  Clethrionomys gapperi gapperi  Gapper's Red-Backed Vole   \n",
      "1   Mammal  Clethrionomys gapperi gapperi  Gapper's Red-Backed Vole   \n",
      "2   Mammal  Clethrionomys gapperi gapperi  Gapper's Red-Backed Vole   \n",
      "3   Mammal  Clethrionomys gapperi gapperi  Gapper's Red-Backed Vole   \n",
      "4   Mammal                      Bos bison     American Bison, Bison   \n",
      "\n",
      "                             park_name  observations  \n",
      "0                  Bryce National Park           130  \n",
      "1            Yellowstone National Park           270  \n",
      "2  Great Smoky Mountains National Park            98  \n",
      "3               Yosemite National Park           117  \n",
      "4               Yosemite National Park           128  \n"
     ]
    }
   ],
   "source": [
    "print(merged.head())"
   ]
  },
  {
   "cell_type": "code",
   "execution_count": 48,
   "id": "a92b4baa",
   "metadata": {},
   "outputs": [
    {
     "data": {
      "text/html": [
       "<div>\n",
       "<style scoped>\n",
       "    .dataframe tbody tr th:only-of-type {\n",
       "        vertical-align: middle;\n",
       "    }\n",
       "\n",
       "    .dataframe tbody tr th {\n",
       "        vertical-align: top;\n",
       "    }\n",
       "\n",
       "    .dataframe thead th {\n",
       "        text-align: right;\n",
       "    }\n",
       "</style>\n",
       "<table border=\"1\" class=\"dataframe\">\n",
       "  <thead>\n",
       "    <tr style=\"text-align: right;\">\n",
       "      <th></th>\n",
       "      <th>category</th>\n",
       "      <th>scientific_name</th>\n",
       "      <th>common_names</th>\n",
       "      <th>park_name</th>\n",
       "      <th>observations</th>\n",
       "    </tr>\n",
       "  </thead>\n",
       "  <tbody>\n",
       "    <tr>\n",
       "      <th>0</th>\n",
       "      <td>Mammal</td>\n",
       "      <td>Clethrionomys gapperi gapperi</td>\n",
       "      <td>Gapper's Red-Backed Vole</td>\n",
       "      <td>Bryce National Park</td>\n",
       "      <td>130</td>\n",
       "    </tr>\n",
       "    <tr>\n",
       "      <th>1</th>\n",
       "      <td>Mammal</td>\n",
       "      <td>Clethrionomys gapperi gapperi</td>\n",
       "      <td>Gapper's Red-Backed Vole</td>\n",
       "      <td>Yellowstone National Park</td>\n",
       "      <td>270</td>\n",
       "    </tr>\n",
       "    <tr>\n",
       "      <th>2</th>\n",
       "      <td>Mammal</td>\n",
       "      <td>Clethrionomys gapperi gapperi</td>\n",
       "      <td>Gapper's Red-Backed Vole</td>\n",
       "      <td>Great Smoky Mountains National Park</td>\n",
       "      <td>98</td>\n",
       "    </tr>\n",
       "    <tr>\n",
       "      <th>3</th>\n",
       "      <td>Mammal</td>\n",
       "      <td>Clethrionomys gapperi gapperi</td>\n",
       "      <td>Gapper's Red-Backed Vole</td>\n",
       "      <td>Yosemite National Park</td>\n",
       "      <td>117</td>\n",
       "    </tr>\n",
       "    <tr>\n",
       "      <th>4</th>\n",
       "      <td>Mammal</td>\n",
       "      <td>Bos bison</td>\n",
       "      <td>American Bison, Bison</td>\n",
       "      <td>Yosemite National Park</td>\n",
       "      <td>128</td>\n",
       "    </tr>\n",
       "    <tr>\n",
       "      <th>...</th>\n",
       "      <td>...</td>\n",
       "      <td>...</td>\n",
       "      <td>...</td>\n",
       "      <td>...</td>\n",
       "      <td>...</td>\n",
       "    </tr>\n",
       "    <tr>\n",
       "      <th>25627</th>\n",
       "      <td>Vascular Plant</td>\n",
       "      <td>Vitis californica</td>\n",
       "      <td>California Grape, California Wild Grape</td>\n",
       "      <td>Yellowstone National Park</td>\n",
       "      <td>237</td>\n",
       "    </tr>\n",
       "    <tr>\n",
       "      <th>25628</th>\n",
       "      <td>Vascular Plant</td>\n",
       "      <td>Tribulus terrestris</td>\n",
       "      <td>Bullhead, Caltrop, Goathead, Mexican Sandbur, ...</td>\n",
       "      <td>Great Smoky Mountains National Park</td>\n",
       "      <td>50</td>\n",
       "    </tr>\n",
       "    <tr>\n",
       "      <th>25629</th>\n",
       "      <td>Vascular Plant</td>\n",
       "      <td>Tribulus terrestris</td>\n",
       "      <td>Bullhead, Caltrop, Goathead, Mexican Sandbur, ...</td>\n",
       "      <td>Yellowstone National Park</td>\n",
       "      <td>239</td>\n",
       "    </tr>\n",
       "    <tr>\n",
       "      <th>25630</th>\n",
       "      <td>Vascular Plant</td>\n",
       "      <td>Tribulus terrestris</td>\n",
       "      <td>Bullhead, Caltrop, Goathead, Mexican Sandbur, ...</td>\n",
       "      <td>Bryce National Park</td>\n",
       "      <td>111</td>\n",
       "    </tr>\n",
       "    <tr>\n",
       "      <th>25631</th>\n",
       "      <td>Vascular Plant</td>\n",
       "      <td>Tribulus terrestris</td>\n",
       "      <td>Bullhead, Caltrop, Goathead, Mexican Sandbur, ...</td>\n",
       "      <td>Yosemite National Park</td>\n",
       "      <td>156</td>\n",
       "    </tr>\n",
       "  </tbody>\n",
       "</table>\n",
       "<p>25581 rows × 5 columns</p>\n",
       "</div>"
      ],
      "text/plain": [
       "             category                scientific_name  \\\n",
       "0              Mammal  Clethrionomys gapperi gapperi   \n",
       "1              Mammal  Clethrionomys gapperi gapperi   \n",
       "2              Mammal  Clethrionomys gapperi gapperi   \n",
       "3              Mammal  Clethrionomys gapperi gapperi   \n",
       "4              Mammal                      Bos bison   \n",
       "...               ...                            ...   \n",
       "25627  Vascular Plant              Vitis californica   \n",
       "25628  Vascular Plant            Tribulus terrestris   \n",
       "25629  Vascular Plant            Tribulus terrestris   \n",
       "25630  Vascular Plant            Tribulus terrestris   \n",
       "25631  Vascular Plant            Tribulus terrestris   \n",
       "\n",
       "                                            common_names  \\\n",
       "0                               Gapper's Red-Backed Vole   \n",
       "1                               Gapper's Red-Backed Vole   \n",
       "2                               Gapper's Red-Backed Vole   \n",
       "3                               Gapper's Red-Backed Vole   \n",
       "4                                  American Bison, Bison   \n",
       "...                                                  ...   \n",
       "25627            California Grape, California Wild Grape   \n",
       "25628  Bullhead, Caltrop, Goathead, Mexican Sandbur, ...   \n",
       "25629  Bullhead, Caltrop, Goathead, Mexican Sandbur, ...   \n",
       "25630  Bullhead, Caltrop, Goathead, Mexican Sandbur, ...   \n",
       "25631  Bullhead, Caltrop, Goathead, Mexican Sandbur, ...   \n",
       "\n",
       "                                 park_name  observations  \n",
       "0                      Bryce National Park           130  \n",
       "1                Yellowstone National Park           270  \n",
       "2      Great Smoky Mountains National Park            98  \n",
       "3                   Yosemite National Park           117  \n",
       "4                   Yosemite National Park           128  \n",
       "...                                    ...           ...  \n",
       "25627            Yellowstone National Park           237  \n",
       "25628  Great Smoky Mountains National Park            50  \n",
       "25629            Yellowstone National Park           239  \n",
       "25630                  Bryce National Park           111  \n",
       "25631               Yosemite National Park           156  \n",
       "\n",
       "[25581 rows x 5 columns]"
      ]
     },
     "execution_count": 48,
     "metadata": {},
     "output_type": "execute_result"
    }
   ],
   "source": [
    "merged.drop_duplicates()"
   ]
  },
  {
   "cell_type": "code",
   "execution_count": 49,
   "id": "f920450c",
   "metadata": {},
   "outputs": [],
   "source": [
    "park = merged.groupby('park_name').count().reset_index()"
   ]
  },
  {
   "cell_type": "code",
   "execution_count": 50,
   "id": "27f07330",
   "metadata": {},
   "outputs": [
    {
     "name": "stdout",
     "output_type": "stream",
     "text": [
      "                             park_name  category  scientific_name  \\\n",
      "0                  Bryce National Park      6408             6408   \n",
      "1  Great Smoky Mountains National Park      6408             6408   \n",
      "2            Yellowstone National Park      6408             6408   \n",
      "3               Yosemite National Park      6408             6408   \n",
      "\n",
      "   common_names  observations  \n",
      "0          6408          6408  \n",
      "1          6408          6408  \n",
      "2          6408          6408  \n",
      "3          6408          6408  \n"
     ]
    }
   ],
   "source": [
    "print(park)"
   ]
  },
  {
   "cell_type": "markdown",
   "id": "f39b310f",
   "metadata": {},
   "source": [
    "I have trouble moving onfrom here. Lets call it an end."
   ]
  },
  {
   "cell_type": "code",
   "execution_count": null,
   "id": "0f16a126",
   "metadata": {},
   "outputs": [],
   "source": []
  }
 ],
 "metadata": {
  "kernelspec": {
   "display_name": "Python 3 (ipykernel)",
   "language": "python",
   "name": "python3"
  },
  "language_info": {
   "codemirror_mode": {
    "name": "ipython",
    "version": 3
   },
   "file_extension": ".py",
   "mimetype": "text/x-python",
   "name": "python",
   "nbconvert_exporter": "python",
   "pygments_lexer": "ipython3",
   "version": "3.9.13"
  }
 },
 "nbformat": 4,
 "nbformat_minor": 5
}
